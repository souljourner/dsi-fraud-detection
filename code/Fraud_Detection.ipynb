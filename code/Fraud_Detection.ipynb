{
 "cells": [
  {
   "cell_type": "code",
   "execution_count": 274,
   "metadata": {
    "collapsed": false
   },
   "outputs": [],
   "source": [
    "import pandas as pd\n",
    "import numpy as np\n",
    "import matplotlib.pyplot as plt\n",
    "import seaborn as sns\n",
    "from __future__ import division\n",
    "from sklearn.linear_model import LogisticRegression\n",
    "from sklearn.ensemble import RandomForestClassifier\n",
    "from sklearn.ensemble import GradientBoostingClassifier\n",
    "from sklearn.model_selection import train_test_split\n",
    "from sklearn.metrics import roc_auc_score\n",
    "from sklearn.metrics import confusion_matrix\n",
    "from sklearn.metrics import precision_score\n",
    "%matplotlib inline"
   ]
  },
  {
   "cell_type": "code",
   "execution_count": 301,
   "metadata": {
    "collapsed": false
   },
   "outputs": [],
   "source": [
    "pd.set_option('display.max_columns', 100)"
   ]
  },
  {
   "cell_type": "code",
   "execution_count": 302,
   "metadata": {
    "collapsed": false
   },
   "outputs": [],
   "source": [
    "df = pd.read_json('data.json', convert_dates=['approx_payout_date','event_created',\\\n",
    "                                               'event_end','event_published',\\\n",
    "                                               'event_start','sale_duration',\\\n",
    "                                               'sale_duration2','user_created',\\\n",
    "                                               'event_published'])"
   ]
  },
  {
   "cell_type": "code",
   "execution_count": 303,
   "metadata": {
    "collapsed": false
   },
   "outputs": [
    {
     "data": {
      "text/html": [
       "<div>\n",
       "<table border=\"1\" class=\"dataframe\">\n",
       "  <thead>\n",
       "    <tr style=\"text-align: right;\">\n",
       "      <th></th>\n",
       "      <th>acct_type</th>\n",
       "      <th>approx_payout_date</th>\n",
       "      <th>body_length</th>\n",
       "      <th>channels</th>\n",
       "      <th>country</th>\n",
       "      <th>currency</th>\n",
       "      <th>delivery_method</th>\n",
       "      <th>description</th>\n",
       "      <th>email_domain</th>\n",
       "      <th>event_created</th>\n",
       "      <th>event_end</th>\n",
       "      <th>event_published</th>\n",
       "      <th>event_start</th>\n",
       "      <th>fb_published</th>\n",
       "      <th>gts</th>\n",
       "      <th>has_analytics</th>\n",
       "      <th>has_header</th>\n",
       "      <th>has_logo</th>\n",
       "      <th>listed</th>\n",
       "      <th>name</th>\n",
       "      <th>name_length</th>\n",
       "      <th>num_order</th>\n",
       "      <th>num_payouts</th>\n",
       "      <th>object_id</th>\n",
       "      <th>org_desc</th>\n",
       "      <th>org_facebook</th>\n",
       "      <th>org_name</th>\n",
       "      <th>org_twitter</th>\n",
       "      <th>payee_name</th>\n",
       "      <th>payout_type</th>\n",
       "      <th>previous_payouts</th>\n",
       "      <th>sale_duration</th>\n",
       "      <th>sale_duration2</th>\n",
       "      <th>show_map</th>\n",
       "      <th>ticket_types</th>\n",
       "      <th>user_age</th>\n",
       "      <th>user_created</th>\n",
       "      <th>user_type</th>\n",
       "      <th>venue_address</th>\n",
       "      <th>venue_country</th>\n",
       "      <th>venue_latitude</th>\n",
       "      <th>venue_longitude</th>\n",
       "      <th>venue_name</th>\n",
       "      <th>venue_state</th>\n",
       "    </tr>\n",
       "  </thead>\n",
       "  <tbody>\n",
       "    <tr>\n",
       "      <th>0</th>\n",
       "      <td>fraudster_event</td>\n",
       "      <td>2010-02-13 12:00:00</td>\n",
       "      <td>3852</td>\n",
       "      <td>5</td>\n",
       "      <td>US</td>\n",
       "      <td>USD</td>\n",
       "      <td>0.0</td>\n",
       "      <td>&lt;p&gt;&lt;a href=\"http://s432.photobucket.com/albums...</td>\n",
       "      <td>gmail.com</td>\n",
       "      <td>2010-01-06 01:01:46</td>\n",
       "      <td>2010-02-08 12:00:00</td>\n",
       "      <td>1.263110e+09</td>\n",
       "      <td>2010-02-08 02:00:00</td>\n",
       "      <td>0</td>\n",
       "      <td>0.00</td>\n",
       "      <td>0</td>\n",
       "      <td>1.0</td>\n",
       "      <td>0</td>\n",
       "      <td>y</td>\n",
       "      <td>99 HOUR \"NO SLEEP\" SUPER BOWL CELEBRITY WEEKEN...</td>\n",
       "      <td>60</td>\n",
       "      <td>0</td>\n",
       "      <td>0</td>\n",
       "      <td>527017</td>\n",
       "      <td></td>\n",
       "      <td>0.0</td>\n",
       "      <td>Party Starz Ent &amp; Diverse Int'l Group</td>\n",
       "      <td>0.0</td>\n",
       "      <td></td>\n",
       "      <td></td>\n",
       "      <td>[]</td>\n",
       "      <td>29.0</td>\n",
       "      <td>33</td>\n",
       "      <td>1</td>\n",
       "      <td>[{u'event_id': 527017, u'cost': 25.0, u'availa...</td>\n",
       "      <td>36</td>\n",
       "      <td>2009-11-30 20:45:50</td>\n",
       "      <td>1</td>\n",
       "      <td>717 Washington Avenue</td>\n",
       "      <td>US</td>\n",
       "      <td>25.777471</td>\n",
       "      <td>-80.133433</td>\n",
       "      <td>INK Nightclub - South Beach</td>\n",
       "      <td>FL</td>\n",
       "    </tr>\n",
       "    <tr>\n",
       "      <th>1</th>\n",
       "      <td>premium</td>\n",
       "      <td>2011-02-03 08:00:00</td>\n",
       "      <td>3499</td>\n",
       "      <td>0</td>\n",
       "      <td>US</td>\n",
       "      <td>USD</td>\n",
       "      <td>1.0</td>\n",
       "      <td>&lt;p&gt;Join us for a quick, one-night, community-b...</td>\n",
       "      <td>ruf.org</td>\n",
       "      <td>2010-12-31 21:57:50</td>\n",
       "      <td>2011-01-29 08:00:00</td>\n",
       "      <td>1.293833e+09</td>\n",
       "      <td>2011-01-28 23:00:00</td>\n",
       "      <td>0</td>\n",
       "      <td>868.02</td>\n",
       "      <td>0</td>\n",
       "      <td>0.0</td>\n",
       "      <td>1</td>\n",
       "      <td>n</td>\n",
       "      <td>Winthrop RUF Winter Getaway</td>\n",
       "      <td>27</td>\n",
       "      <td>23</td>\n",
       "      <td>1</td>\n",
       "      <td>786878</td>\n",
       "      <td>&lt;p&gt;Since 1987, RUF has ministered to students ...</td>\n",
       "      <td>0.0</td>\n",
       "      <td>RUF at Winthrop University</td>\n",
       "      <td>12.0</td>\n",
       "      <td>RUF</td>\n",
       "      <td>CHECK</td>\n",
       "      <td>[{u'name': u'RUF', u'created': u'2010-10-01 01...</td>\n",
       "      <td>28.0</td>\n",
       "      <td>28</td>\n",
       "      <td>0</td>\n",
       "      <td>[{u'event_id': 786878, u'cost': 35.0, u'availa...</td>\n",
       "      <td>149</td>\n",
       "      <td>2010-08-04 17:26:16</td>\n",
       "      <td>3</td>\n",
       "      <td></td>\n",
       "      <td>US</td>\n",
       "      <td>32.776566</td>\n",
       "      <td>-79.930922</td>\n",
       "      <td>The Charleston, SC area</td>\n",
       "      <td>SC</td>\n",
       "    </tr>\n",
       "    <tr>\n",
       "      <th>2</th>\n",
       "      <td>premium</td>\n",
       "      <td>2011-01-28 00:00:00</td>\n",
       "      <td>2601</td>\n",
       "      <td>8</td>\n",
       "      <td>US</td>\n",
       "      <td>USD</td>\n",
       "      <td>1.0</td>\n",
       "      <td>&lt;h3&gt;&lt;span class=\"subcategory\"&gt;&lt;strong&gt;Teacher ...</td>\n",
       "      <td>pvsd.k12.ca.us</td>\n",
       "      <td>2010-11-30 04:22:36</td>\n",
       "      <td>2011-01-23 00:00:00</td>\n",
       "      <td>1.291092e+09</td>\n",
       "      <td>2011-01-22 16:30:00</td>\n",
       "      <td>0</td>\n",
       "      <td>3500.00</td>\n",
       "      <td>0</td>\n",
       "      <td>NaN</td>\n",
       "      <td>0</td>\n",
       "      <td>y</td>\n",
       "      <td>DRDP (2010) Teacher Training</td>\n",
       "      <td>28</td>\n",
       "      <td>19</td>\n",
       "      <td>4</td>\n",
       "      <td>787337</td>\n",
       "      <td>&lt;p&gt;&lt;a href=\"http://www.desiredresults.com\"&gt;www...</td>\n",
       "      <td>0.0</td>\n",
       "      <td>University Preparation School in collaboration...</td>\n",
       "      <td>0.0</td>\n",
       "      <td>University Preparation School</td>\n",
       "      <td>CHECK</td>\n",
       "      <td>[{u'name': u'Danielle Severn', u'created': u'2...</td>\n",
       "      <td>54.0</td>\n",
       "      <td>54</td>\n",
       "      <td>0</td>\n",
       "      <td>[{u'event_id': 787337, u'cost': 93.51, u'avail...</td>\n",
       "      <td>214</td>\n",
       "      <td>2010-04-29 16:43:08</td>\n",
       "      <td>3</td>\n",
       "      <td>10100 Pioneer Blvd Suite 100</td>\n",
       "      <td>US</td>\n",
       "      <td>33.944201</td>\n",
       "      <td>-118.080419</td>\n",
       "      <td>Los Angeles County Office of Education</td>\n",
       "      <td>CA</td>\n",
       "    </tr>\n",
       "    <tr>\n",
       "      <th>3</th>\n",
       "      <td>premium</td>\n",
       "      <td>2014-01-06 00:00:00</td>\n",
       "      <td>12347</td>\n",
       "      <td>6</td>\n",
       "      <td>IE</td>\n",
       "      <td>EUR</td>\n",
       "      <td>1.0</td>\n",
       "      <td>&lt;p style=\"margin-bottom: 1.3em; padding-bottom...</td>\n",
       "      <td>irishtabletennis.com</td>\n",
       "      <td>2013-02-12 15:06:10</td>\n",
       "      <td>2014-01-01 00:00:00</td>\n",
       "      <td>1.360683e+09</td>\n",
       "      <td>2013-02-12 21:00:00</td>\n",
       "      <td>0</td>\n",
       "      <td>1167.35</td>\n",
       "      <td>0</td>\n",
       "      <td>0.0</td>\n",
       "      <td>1</td>\n",
       "      <td>y</td>\n",
       "      <td>ITTA Affiliation 2013</td>\n",
       "      <td>21</td>\n",
       "      <td>39</td>\n",
       "      <td>16</td>\n",
       "      <td>885645</td>\n",
       "      <td></td>\n",
       "      <td>0.0</td>\n",
       "      <td></td>\n",
       "      <td>0.0</td>\n",
       "      <td></td>\n",
       "      <td>ACH</td>\n",
       "      <td>[{u'name': u'', u'created': u'2010-11-09 01:10...</td>\n",
       "      <td>0.0</td>\n",
       "      <td>0</td>\n",
       "      <td>0</td>\n",
       "      <td>[{u'event_id': 885645, u'cost': 25.0, u'availa...</td>\n",
       "      <td>889</td>\n",
       "      <td>2010-09-07 14:35:02</td>\n",
       "      <td>3</td>\n",
       "      <td></td>\n",
       "      <td>None</td>\n",
       "      <td>NaN</td>\n",
       "      <td>NaN</td>\n",
       "      <td>None</td>\n",
       "      <td>None</td>\n",
       "    </tr>\n",
       "    <tr>\n",
       "      <th>4</th>\n",
       "      <td>premium</td>\n",
       "      <td>2011-02-17 00:00:00</td>\n",
       "      <td>2417</td>\n",
       "      <td>11</td>\n",
       "      <td>US</td>\n",
       "      <td>USD</td>\n",
       "      <td>0.0</td>\n",
       "      <td>&lt;p&gt;Writers and filmmakers need to understand t...</td>\n",
       "      <td>artsandbusinesscouncil.org</td>\n",
       "      <td>2010-12-10 15:24:26</td>\n",
       "      <td>2011-02-12 00:00:00</td>\n",
       "      <td>1.291995e+09</td>\n",
       "      <td>2011-02-11 16:00:00</td>\n",
       "      <td>1</td>\n",
       "      <td>2313.15</td>\n",
       "      <td>0</td>\n",
       "      <td>0.0</td>\n",
       "      <td>0</td>\n",
       "      <td>y</td>\n",
       "      <td>Self Defense for Writers and Filmmakers: For A...</td>\n",
       "      <td>66</td>\n",
       "      <td>30</td>\n",
       "      <td>0</td>\n",
       "      <td>1114349</td>\n",
       "      <td>&lt;p&gt;&lt;font face=\"Arial\"&gt;&lt;font size=\"2\"&gt;&lt;strong&gt;T...</td>\n",
       "      <td>0.0</td>\n",
       "      <td>Arts &amp; Business Council of Greater Boston</td>\n",
       "      <td>0.0</td>\n",
       "      <td>Arts and Business Council or Greater Boston</td>\n",
       "      <td>CHECK</td>\n",
       "      <td>[{u'name': u'Arts and Business Council or Grea...</td>\n",
       "      <td>63.0</td>\n",
       "      <td>63</td>\n",
       "      <td>0</td>\n",
       "      <td>[{u'event_id': 1114349, u'cost': 150.0, u'avai...</td>\n",
       "      <td>35</td>\n",
       "      <td>2010-11-05 19:07:45</td>\n",
       "      <td>3</td>\n",
       "      <td>One Marina Park Drive</td>\n",
       "      <td>US</td>\n",
       "      <td>42.353848</td>\n",
       "      <td>-71.044276</td>\n",
       "      <td>Fish &amp; Richardson</td>\n",
       "      <td>MA</td>\n",
       "    </tr>\n",
       "  </tbody>\n",
       "</table>\n",
       "</div>"
      ],
      "text/plain": [
       "         acct_type  approx_payout_date  body_length  channels country  \\\n",
       "0  fraudster_event 2010-02-13 12:00:00         3852         5      US   \n",
       "1          premium 2011-02-03 08:00:00         3499         0      US   \n",
       "2          premium 2011-01-28 00:00:00         2601         8      US   \n",
       "3          premium 2014-01-06 00:00:00        12347         6      IE   \n",
       "4          premium 2011-02-17 00:00:00         2417        11      US   \n",
       "\n",
       "  currency  delivery_method  \\\n",
       "0      USD              0.0   \n",
       "1      USD              1.0   \n",
       "2      USD              1.0   \n",
       "3      EUR              1.0   \n",
       "4      USD              0.0   \n",
       "\n",
       "                                         description  \\\n",
       "0  <p><a href=\"http://s432.photobucket.com/albums...   \n",
       "1  <p>Join us for a quick, one-night, community-b...   \n",
       "2  <h3><span class=\"subcategory\"><strong>Teacher ...   \n",
       "3  <p style=\"margin-bottom: 1.3em; padding-bottom...   \n",
       "4  <p>Writers and filmmakers need to understand t...   \n",
       "\n",
       "                 email_domain       event_created           event_end  \\\n",
       "0                   gmail.com 2010-01-06 01:01:46 2010-02-08 12:00:00   \n",
       "1                     ruf.org 2010-12-31 21:57:50 2011-01-29 08:00:00   \n",
       "2              pvsd.k12.ca.us 2010-11-30 04:22:36 2011-01-23 00:00:00   \n",
       "3        irishtabletennis.com 2013-02-12 15:06:10 2014-01-01 00:00:00   \n",
       "4  artsandbusinesscouncil.org 2010-12-10 15:24:26 2011-02-12 00:00:00   \n",
       "\n",
       "   event_published         event_start  fb_published      gts  has_analytics  \\\n",
       "0     1.263110e+09 2010-02-08 02:00:00             0     0.00              0   \n",
       "1     1.293833e+09 2011-01-28 23:00:00             0   868.02              0   \n",
       "2     1.291092e+09 2011-01-22 16:30:00             0  3500.00              0   \n",
       "3     1.360683e+09 2013-02-12 21:00:00             0  1167.35              0   \n",
       "4     1.291995e+09 2011-02-11 16:00:00             1  2313.15              0   \n",
       "\n",
       "   has_header  has_logo listed  \\\n",
       "0         1.0         0      y   \n",
       "1         0.0         1      n   \n",
       "2         NaN         0      y   \n",
       "3         0.0         1      y   \n",
       "4         0.0         0      y   \n",
       "\n",
       "                                                name  name_length  num_order  \\\n",
       "0  99 HOUR \"NO SLEEP\" SUPER BOWL CELEBRITY WEEKEN...           60          0   \n",
       "1                        Winthrop RUF Winter Getaway           27         23   \n",
       "2                       DRDP (2010) Teacher Training           28         19   \n",
       "3                              ITTA Affiliation 2013           21         39   \n",
       "4  Self Defense for Writers and Filmmakers: For A...           66         30   \n",
       "\n",
       "   num_payouts  object_id                                           org_desc  \\\n",
       "0            0     527017                                                      \n",
       "1            1     786878  <p>Since 1987, RUF has ministered to students ...   \n",
       "2            4     787337  <p><a href=\"http://www.desiredresults.com\">www...   \n",
       "3           16     885645                                                      \n",
       "4            0    1114349  <p><font face=\"Arial\"><font size=\"2\"><strong>T...   \n",
       "\n",
       "   org_facebook                                           org_name  \\\n",
       "0           0.0              Party Starz Ent & Diverse Int'l Group   \n",
       "1           0.0                         RUF at Winthrop University   \n",
       "2           0.0  University Preparation School in collaboration...   \n",
       "3           0.0                                                      \n",
       "4           0.0         Arts & Business Council of Greater Boston    \n",
       "\n",
       "   org_twitter                                   payee_name payout_type  \\\n",
       "0          0.0                                                            \n",
       "1         12.0                                          RUF       CHECK   \n",
       "2          0.0                University Preparation School       CHECK   \n",
       "3          0.0                                                      ACH   \n",
       "4          0.0  Arts and Business Council or Greater Boston       CHECK   \n",
       "\n",
       "                                    previous_payouts  sale_duration  \\\n",
       "0                                                 []           29.0   \n",
       "1  [{u'name': u'RUF', u'created': u'2010-10-01 01...           28.0   \n",
       "2  [{u'name': u'Danielle Severn', u'created': u'2...           54.0   \n",
       "3  [{u'name': u'', u'created': u'2010-11-09 01:10...            0.0   \n",
       "4  [{u'name': u'Arts and Business Council or Grea...           63.0   \n",
       "\n",
       "   sale_duration2  show_map  \\\n",
       "0              33         1   \n",
       "1              28         0   \n",
       "2              54         0   \n",
       "3               0         0   \n",
       "4              63         0   \n",
       "\n",
       "                                        ticket_types  user_age  \\\n",
       "0  [{u'event_id': 527017, u'cost': 25.0, u'availa...        36   \n",
       "1  [{u'event_id': 786878, u'cost': 35.0, u'availa...       149   \n",
       "2  [{u'event_id': 787337, u'cost': 93.51, u'avail...       214   \n",
       "3  [{u'event_id': 885645, u'cost': 25.0, u'availa...       889   \n",
       "4  [{u'event_id': 1114349, u'cost': 150.0, u'avai...        35   \n",
       "\n",
       "         user_created  user_type                 venue_address venue_country  \\\n",
       "0 2009-11-30 20:45:50          1         717 Washington Avenue            US   \n",
       "1 2010-08-04 17:26:16          3                                          US   \n",
       "2 2010-04-29 16:43:08          3  10100 Pioneer Blvd Suite 100            US   \n",
       "3 2010-09-07 14:35:02          3                                        None   \n",
       "4 2010-11-05 19:07:45          3        One Marina Park Drive             US   \n",
       "\n",
       "   venue_latitude  venue_longitude                              venue_name  \\\n",
       "0       25.777471       -80.133433             INK Nightclub - South Beach   \n",
       "1       32.776566       -79.930922                 The Charleston, SC area   \n",
       "2       33.944201      -118.080419  Los Angeles County Office of Education   \n",
       "3             NaN              NaN                                    None   \n",
       "4       42.353848       -71.044276                       Fish & Richardson   \n",
       "\n",
       "  venue_state  \n",
       "0          FL  \n",
       "1          SC  \n",
       "2          CA  \n",
       "3        None  \n",
       "4          MA  "
      ]
     },
     "execution_count": 303,
     "metadata": {},
     "output_type": "execute_result"
    }
   ],
   "source": [
    "df.head() "
   ]
  },
  {
   "cell_type": "code",
   "execution_count": 304,
   "metadata": {
    "collapsed": false
   },
   "outputs": [],
   "source": [
    "df_new = df.loc[df.acct_type.isin(['premium','fraudster_event','fraudster','fraudster_att']), :]"
   ]
  },
  {
   "cell_type": "code",
   "execution_count": 305,
   "metadata": {
    "collapsed": false
   },
   "outputs": [
    {
     "name": "stderr",
     "output_type": "stream",
     "text": [
      "/Users/lihuama/anaconda2/lib/python2.7/site-packages/ipykernel/__main__.py:1: SettingWithCopyWarning: \n",
      "A value is trying to be set on a copy of a slice from a DataFrame.\n",
      "Try using .loc[row_indexer,col_indexer] = value instead\n",
      "\n",
      "See the caveats in the documentation: http://pandas.pydata.org/pandas-docs/stable/indexing.html#indexing-view-versus-copy\n",
      "  if __name__ == '__main__':\n"
     ]
    }
   ],
   "source": [
    "df_new['fraud'] = 0\n",
    "df_new.loc[df.acct_type.isin(['fraudster_event', 'fraudster', 'fraudster_att']), 'fraud'] = 1"
   ]
  },
  {
   "cell_type": "code",
   "execution_count": 306,
   "metadata": {
    "collapsed": false
   },
   "outputs": [
    {
     "data": {
      "text/html": [
       "<div>\n",
       "<table border=\"1\" class=\"dataframe\">\n",
       "  <thead>\n",
       "    <tr style=\"text-align: right;\">\n",
       "      <th></th>\n",
       "      <th>acct_type</th>\n",
       "      <th>approx_payout_date</th>\n",
       "      <th>body_length</th>\n",
       "      <th>channels</th>\n",
       "      <th>country</th>\n",
       "      <th>currency</th>\n",
       "      <th>delivery_method</th>\n",
       "      <th>description</th>\n",
       "      <th>email_domain</th>\n",
       "      <th>event_created</th>\n",
       "      <th>event_end</th>\n",
       "      <th>event_published</th>\n",
       "      <th>event_start</th>\n",
       "      <th>fb_published</th>\n",
       "      <th>gts</th>\n",
       "      <th>has_analytics</th>\n",
       "      <th>has_header</th>\n",
       "      <th>has_logo</th>\n",
       "      <th>listed</th>\n",
       "      <th>name</th>\n",
       "      <th>name_length</th>\n",
       "      <th>num_order</th>\n",
       "      <th>num_payouts</th>\n",
       "      <th>object_id</th>\n",
       "      <th>org_desc</th>\n",
       "      <th>org_facebook</th>\n",
       "      <th>org_name</th>\n",
       "      <th>org_twitter</th>\n",
       "      <th>payee_name</th>\n",
       "      <th>payout_type</th>\n",
       "      <th>previous_payouts</th>\n",
       "      <th>sale_duration</th>\n",
       "      <th>sale_duration2</th>\n",
       "      <th>show_map</th>\n",
       "      <th>ticket_types</th>\n",
       "      <th>user_age</th>\n",
       "      <th>user_created</th>\n",
       "      <th>user_type</th>\n",
       "      <th>venue_address</th>\n",
       "      <th>venue_country</th>\n",
       "      <th>venue_latitude</th>\n",
       "      <th>venue_longitude</th>\n",
       "      <th>venue_name</th>\n",
       "      <th>venue_state</th>\n",
       "      <th>fraud</th>\n",
       "    </tr>\n",
       "  </thead>\n",
       "  <tbody>\n",
       "    <tr>\n",
       "      <th>0</th>\n",
       "      <td>fraudster_event</td>\n",
       "      <td>2010-02-13 12:00:00</td>\n",
       "      <td>3852</td>\n",
       "      <td>5</td>\n",
       "      <td>US</td>\n",
       "      <td>USD</td>\n",
       "      <td>0.0</td>\n",
       "      <td>&lt;p&gt;&lt;a href=\"http://s432.photobucket.com/albums...</td>\n",
       "      <td>gmail.com</td>\n",
       "      <td>2010-01-06 01:01:46</td>\n",
       "      <td>2010-02-08 12:00:00</td>\n",
       "      <td>1.263110e+09</td>\n",
       "      <td>2010-02-08 02:00:00</td>\n",
       "      <td>0</td>\n",
       "      <td>0.00</td>\n",
       "      <td>0</td>\n",
       "      <td>1.0</td>\n",
       "      <td>0</td>\n",
       "      <td>y</td>\n",
       "      <td>99 HOUR \"NO SLEEP\" SUPER BOWL CELEBRITY WEEKEN...</td>\n",
       "      <td>60</td>\n",
       "      <td>0</td>\n",
       "      <td>0</td>\n",
       "      <td>527017</td>\n",
       "      <td></td>\n",
       "      <td>0.0</td>\n",
       "      <td>Party Starz Ent &amp; Diverse Int'l Group</td>\n",
       "      <td>0.0</td>\n",
       "      <td></td>\n",
       "      <td></td>\n",
       "      <td>[]</td>\n",
       "      <td>29.0</td>\n",
       "      <td>33</td>\n",
       "      <td>1</td>\n",
       "      <td>[{u'event_id': 527017, u'cost': 25.0, u'availa...</td>\n",
       "      <td>36</td>\n",
       "      <td>2009-11-30 20:45:50</td>\n",
       "      <td>1</td>\n",
       "      <td>717 Washington Avenue</td>\n",
       "      <td>US</td>\n",
       "      <td>25.777471</td>\n",
       "      <td>-80.133433</td>\n",
       "      <td>INK Nightclub - South Beach</td>\n",
       "      <td>FL</td>\n",
       "      <td>1</td>\n",
       "    </tr>\n",
       "    <tr>\n",
       "      <th>1</th>\n",
       "      <td>premium</td>\n",
       "      <td>2011-02-03 08:00:00</td>\n",
       "      <td>3499</td>\n",
       "      <td>0</td>\n",
       "      <td>US</td>\n",
       "      <td>USD</td>\n",
       "      <td>1.0</td>\n",
       "      <td>&lt;p&gt;Join us for a quick, one-night, community-b...</td>\n",
       "      <td>ruf.org</td>\n",
       "      <td>2010-12-31 21:57:50</td>\n",
       "      <td>2011-01-29 08:00:00</td>\n",
       "      <td>1.293833e+09</td>\n",
       "      <td>2011-01-28 23:00:00</td>\n",
       "      <td>0</td>\n",
       "      <td>868.02</td>\n",
       "      <td>0</td>\n",
       "      <td>0.0</td>\n",
       "      <td>1</td>\n",
       "      <td>n</td>\n",
       "      <td>Winthrop RUF Winter Getaway</td>\n",
       "      <td>27</td>\n",
       "      <td>23</td>\n",
       "      <td>1</td>\n",
       "      <td>786878</td>\n",
       "      <td>&lt;p&gt;Since 1987, RUF has ministered to students ...</td>\n",
       "      <td>0.0</td>\n",
       "      <td>RUF at Winthrop University</td>\n",
       "      <td>12.0</td>\n",
       "      <td>RUF</td>\n",
       "      <td>CHECK</td>\n",
       "      <td>[{u'name': u'RUF', u'created': u'2010-10-01 01...</td>\n",
       "      <td>28.0</td>\n",
       "      <td>28</td>\n",
       "      <td>0</td>\n",
       "      <td>[{u'event_id': 786878, u'cost': 35.0, u'availa...</td>\n",
       "      <td>149</td>\n",
       "      <td>2010-08-04 17:26:16</td>\n",
       "      <td>3</td>\n",
       "      <td></td>\n",
       "      <td>US</td>\n",
       "      <td>32.776566</td>\n",
       "      <td>-79.930922</td>\n",
       "      <td>The Charleston, SC area</td>\n",
       "      <td>SC</td>\n",
       "      <td>0</td>\n",
       "    </tr>\n",
       "    <tr>\n",
       "      <th>2</th>\n",
       "      <td>premium</td>\n",
       "      <td>2011-01-28 00:00:00</td>\n",
       "      <td>2601</td>\n",
       "      <td>8</td>\n",
       "      <td>US</td>\n",
       "      <td>USD</td>\n",
       "      <td>1.0</td>\n",
       "      <td>&lt;h3&gt;&lt;span class=\"subcategory\"&gt;&lt;strong&gt;Teacher ...</td>\n",
       "      <td>pvsd.k12.ca.us</td>\n",
       "      <td>2010-11-30 04:22:36</td>\n",
       "      <td>2011-01-23 00:00:00</td>\n",
       "      <td>1.291092e+09</td>\n",
       "      <td>2011-01-22 16:30:00</td>\n",
       "      <td>0</td>\n",
       "      <td>3500.00</td>\n",
       "      <td>0</td>\n",
       "      <td>NaN</td>\n",
       "      <td>0</td>\n",
       "      <td>y</td>\n",
       "      <td>DRDP (2010) Teacher Training</td>\n",
       "      <td>28</td>\n",
       "      <td>19</td>\n",
       "      <td>4</td>\n",
       "      <td>787337</td>\n",
       "      <td>&lt;p&gt;&lt;a href=\"http://www.desiredresults.com\"&gt;www...</td>\n",
       "      <td>0.0</td>\n",
       "      <td>University Preparation School in collaboration...</td>\n",
       "      <td>0.0</td>\n",
       "      <td>University Preparation School</td>\n",
       "      <td>CHECK</td>\n",
       "      <td>[{u'name': u'Danielle Severn', u'created': u'2...</td>\n",
       "      <td>54.0</td>\n",
       "      <td>54</td>\n",
       "      <td>0</td>\n",
       "      <td>[{u'event_id': 787337, u'cost': 93.51, u'avail...</td>\n",
       "      <td>214</td>\n",
       "      <td>2010-04-29 16:43:08</td>\n",
       "      <td>3</td>\n",
       "      <td>10100 Pioneer Blvd Suite 100</td>\n",
       "      <td>US</td>\n",
       "      <td>33.944201</td>\n",
       "      <td>-118.080419</td>\n",
       "      <td>Los Angeles County Office of Education</td>\n",
       "      <td>CA</td>\n",
       "      <td>0</td>\n",
       "    </tr>\n",
       "    <tr>\n",
       "      <th>3</th>\n",
       "      <td>premium</td>\n",
       "      <td>2014-01-06 00:00:00</td>\n",
       "      <td>12347</td>\n",
       "      <td>6</td>\n",
       "      <td>IE</td>\n",
       "      <td>EUR</td>\n",
       "      <td>1.0</td>\n",
       "      <td>&lt;p style=\"margin-bottom: 1.3em; padding-bottom...</td>\n",
       "      <td>irishtabletennis.com</td>\n",
       "      <td>2013-02-12 15:06:10</td>\n",
       "      <td>2014-01-01 00:00:00</td>\n",
       "      <td>1.360683e+09</td>\n",
       "      <td>2013-02-12 21:00:00</td>\n",
       "      <td>0</td>\n",
       "      <td>1167.35</td>\n",
       "      <td>0</td>\n",
       "      <td>0.0</td>\n",
       "      <td>1</td>\n",
       "      <td>y</td>\n",
       "      <td>ITTA Affiliation 2013</td>\n",
       "      <td>21</td>\n",
       "      <td>39</td>\n",
       "      <td>16</td>\n",
       "      <td>885645</td>\n",
       "      <td></td>\n",
       "      <td>0.0</td>\n",
       "      <td></td>\n",
       "      <td>0.0</td>\n",
       "      <td></td>\n",
       "      <td>ACH</td>\n",
       "      <td>[{u'name': u'', u'created': u'2010-11-09 01:10...</td>\n",
       "      <td>0.0</td>\n",
       "      <td>0</td>\n",
       "      <td>0</td>\n",
       "      <td>[{u'event_id': 885645, u'cost': 25.0, u'availa...</td>\n",
       "      <td>889</td>\n",
       "      <td>2010-09-07 14:35:02</td>\n",
       "      <td>3</td>\n",
       "      <td></td>\n",
       "      <td>None</td>\n",
       "      <td>NaN</td>\n",
       "      <td>NaN</td>\n",
       "      <td>None</td>\n",
       "      <td>None</td>\n",
       "      <td>0</td>\n",
       "    </tr>\n",
       "    <tr>\n",
       "      <th>4</th>\n",
       "      <td>premium</td>\n",
       "      <td>2011-02-17 00:00:00</td>\n",
       "      <td>2417</td>\n",
       "      <td>11</td>\n",
       "      <td>US</td>\n",
       "      <td>USD</td>\n",
       "      <td>0.0</td>\n",
       "      <td>&lt;p&gt;Writers and filmmakers need to understand t...</td>\n",
       "      <td>artsandbusinesscouncil.org</td>\n",
       "      <td>2010-12-10 15:24:26</td>\n",
       "      <td>2011-02-12 00:00:00</td>\n",
       "      <td>1.291995e+09</td>\n",
       "      <td>2011-02-11 16:00:00</td>\n",
       "      <td>1</td>\n",
       "      <td>2313.15</td>\n",
       "      <td>0</td>\n",
       "      <td>0.0</td>\n",
       "      <td>0</td>\n",
       "      <td>y</td>\n",
       "      <td>Self Defense for Writers and Filmmakers: For A...</td>\n",
       "      <td>66</td>\n",
       "      <td>30</td>\n",
       "      <td>0</td>\n",
       "      <td>1114349</td>\n",
       "      <td>&lt;p&gt;&lt;font face=\"Arial\"&gt;&lt;font size=\"2\"&gt;&lt;strong&gt;T...</td>\n",
       "      <td>0.0</td>\n",
       "      <td>Arts &amp; Business Council of Greater Boston</td>\n",
       "      <td>0.0</td>\n",
       "      <td>Arts and Business Council or Greater Boston</td>\n",
       "      <td>CHECK</td>\n",
       "      <td>[{u'name': u'Arts and Business Council or Grea...</td>\n",
       "      <td>63.0</td>\n",
       "      <td>63</td>\n",
       "      <td>0</td>\n",
       "      <td>[{u'event_id': 1114349, u'cost': 150.0, u'avai...</td>\n",
       "      <td>35</td>\n",
       "      <td>2010-11-05 19:07:45</td>\n",
       "      <td>3</td>\n",
       "      <td>One Marina Park Drive</td>\n",
       "      <td>US</td>\n",
       "      <td>42.353848</td>\n",
       "      <td>-71.044276</td>\n",
       "      <td>Fish &amp; Richardson</td>\n",
       "      <td>MA</td>\n",
       "      <td>0</td>\n",
       "    </tr>\n",
       "  </tbody>\n",
       "</table>\n",
       "</div>"
      ],
      "text/plain": [
       "         acct_type  approx_payout_date  body_length  channels country  \\\n",
       "0  fraudster_event 2010-02-13 12:00:00         3852         5      US   \n",
       "1          premium 2011-02-03 08:00:00         3499         0      US   \n",
       "2          premium 2011-01-28 00:00:00         2601         8      US   \n",
       "3          premium 2014-01-06 00:00:00        12347         6      IE   \n",
       "4          premium 2011-02-17 00:00:00         2417        11      US   \n",
       "\n",
       "  currency  delivery_method  \\\n",
       "0      USD              0.0   \n",
       "1      USD              1.0   \n",
       "2      USD              1.0   \n",
       "3      EUR              1.0   \n",
       "4      USD              0.0   \n",
       "\n",
       "                                         description  \\\n",
       "0  <p><a href=\"http://s432.photobucket.com/albums...   \n",
       "1  <p>Join us for a quick, one-night, community-b...   \n",
       "2  <h3><span class=\"subcategory\"><strong>Teacher ...   \n",
       "3  <p style=\"margin-bottom: 1.3em; padding-bottom...   \n",
       "4  <p>Writers and filmmakers need to understand t...   \n",
       "\n",
       "                 email_domain       event_created           event_end  \\\n",
       "0                   gmail.com 2010-01-06 01:01:46 2010-02-08 12:00:00   \n",
       "1                     ruf.org 2010-12-31 21:57:50 2011-01-29 08:00:00   \n",
       "2              pvsd.k12.ca.us 2010-11-30 04:22:36 2011-01-23 00:00:00   \n",
       "3        irishtabletennis.com 2013-02-12 15:06:10 2014-01-01 00:00:00   \n",
       "4  artsandbusinesscouncil.org 2010-12-10 15:24:26 2011-02-12 00:00:00   \n",
       "\n",
       "   event_published         event_start  fb_published      gts  has_analytics  \\\n",
       "0     1.263110e+09 2010-02-08 02:00:00             0     0.00              0   \n",
       "1     1.293833e+09 2011-01-28 23:00:00             0   868.02              0   \n",
       "2     1.291092e+09 2011-01-22 16:30:00             0  3500.00              0   \n",
       "3     1.360683e+09 2013-02-12 21:00:00             0  1167.35              0   \n",
       "4     1.291995e+09 2011-02-11 16:00:00             1  2313.15              0   \n",
       "\n",
       "   has_header  has_logo listed  \\\n",
       "0         1.0         0      y   \n",
       "1         0.0         1      n   \n",
       "2         NaN         0      y   \n",
       "3         0.0         1      y   \n",
       "4         0.0         0      y   \n",
       "\n",
       "                                                name  name_length  num_order  \\\n",
       "0  99 HOUR \"NO SLEEP\" SUPER BOWL CELEBRITY WEEKEN...           60          0   \n",
       "1                        Winthrop RUF Winter Getaway           27         23   \n",
       "2                       DRDP (2010) Teacher Training           28         19   \n",
       "3                              ITTA Affiliation 2013           21         39   \n",
       "4  Self Defense for Writers and Filmmakers: For A...           66         30   \n",
       "\n",
       "   num_payouts  object_id                                           org_desc  \\\n",
       "0            0     527017                                                      \n",
       "1            1     786878  <p>Since 1987, RUF has ministered to students ...   \n",
       "2            4     787337  <p><a href=\"http://www.desiredresults.com\">www...   \n",
       "3           16     885645                                                      \n",
       "4            0    1114349  <p><font face=\"Arial\"><font size=\"2\"><strong>T...   \n",
       "\n",
       "   org_facebook                                           org_name  \\\n",
       "0           0.0              Party Starz Ent & Diverse Int'l Group   \n",
       "1           0.0                         RUF at Winthrop University   \n",
       "2           0.0  University Preparation School in collaboration...   \n",
       "3           0.0                                                      \n",
       "4           0.0         Arts & Business Council of Greater Boston    \n",
       "\n",
       "   org_twitter                                   payee_name payout_type  \\\n",
       "0          0.0                                                            \n",
       "1         12.0                                          RUF       CHECK   \n",
       "2          0.0                University Preparation School       CHECK   \n",
       "3          0.0                                                      ACH   \n",
       "4          0.0  Arts and Business Council or Greater Boston       CHECK   \n",
       "\n",
       "                                    previous_payouts  sale_duration  \\\n",
       "0                                                 []           29.0   \n",
       "1  [{u'name': u'RUF', u'created': u'2010-10-01 01...           28.0   \n",
       "2  [{u'name': u'Danielle Severn', u'created': u'2...           54.0   \n",
       "3  [{u'name': u'', u'created': u'2010-11-09 01:10...            0.0   \n",
       "4  [{u'name': u'Arts and Business Council or Grea...           63.0   \n",
       "\n",
       "   sale_duration2  show_map  \\\n",
       "0              33         1   \n",
       "1              28         0   \n",
       "2              54         0   \n",
       "3               0         0   \n",
       "4              63         0   \n",
       "\n",
       "                                        ticket_types  user_age  \\\n",
       "0  [{u'event_id': 527017, u'cost': 25.0, u'availa...        36   \n",
       "1  [{u'event_id': 786878, u'cost': 35.0, u'availa...       149   \n",
       "2  [{u'event_id': 787337, u'cost': 93.51, u'avail...       214   \n",
       "3  [{u'event_id': 885645, u'cost': 25.0, u'availa...       889   \n",
       "4  [{u'event_id': 1114349, u'cost': 150.0, u'avai...        35   \n",
       "\n",
       "         user_created  user_type                 venue_address venue_country  \\\n",
       "0 2009-11-30 20:45:50          1         717 Washington Avenue            US   \n",
       "1 2010-08-04 17:26:16          3                                          US   \n",
       "2 2010-04-29 16:43:08          3  10100 Pioneer Blvd Suite 100            US   \n",
       "3 2010-09-07 14:35:02          3                                        None   \n",
       "4 2010-11-05 19:07:45          3        One Marina Park Drive             US   \n",
       "\n",
       "   venue_latitude  venue_longitude                              venue_name  \\\n",
       "0       25.777471       -80.133433             INK Nightclub - South Beach   \n",
       "1       32.776566       -79.930922                 The Charleston, SC area   \n",
       "2       33.944201      -118.080419  Los Angeles County Office of Education   \n",
       "3             NaN              NaN                                    None   \n",
       "4       42.353848       -71.044276                       Fish & Richardson   \n",
       "\n",
       "  venue_state  fraud  \n",
       "0          FL      1  \n",
       "1          SC      0  \n",
       "2          CA      0  \n",
       "3        None      0  \n",
       "4          MA      0  "
      ]
     },
     "execution_count": 306,
     "metadata": {},
     "output_type": "execute_result"
    }
   ],
   "source": [
    "df_new.head()"
   ]
  },
  {
   "cell_type": "code",
   "execution_count": 307,
   "metadata": {
    "collapsed": false
   },
   "outputs": [
    {
     "name": "stdout",
     "output_type": "stream",
     "text": [
      "<class 'pandas.core.frame.DataFrame'>\n",
      "Int64Index: 13666 entries, 0 to 14336\n",
      "Data columns (total 45 columns):\n",
      "acct_type             13666 non-null object\n",
      "approx_payout_date    13666 non-null datetime64[ns]\n",
      "body_length           13666 non-null int64\n",
      "channels              13666 non-null int64\n",
      "country               13590 non-null object\n",
      "currency              13666 non-null object\n",
      "delivery_method       13650 non-null float64\n",
      "description           13666 non-null object\n",
      "email_domain          13666 non-null object\n",
      "event_created         13666 non-null datetime64[ns]\n",
      "event_end             13666 non-null datetime64[ns]\n",
      "event_published       13567 non-null float64\n",
      "event_start           13666 non-null datetime64[ns]\n",
      "fb_published          13666 non-null int64\n",
      "gts                   13666 non-null float64\n",
      "has_analytics         13666 non-null int64\n",
      "has_header            8469 non-null float64\n",
      "has_logo              13666 non-null int64\n",
      "listed                13666 non-null object\n",
      "name                  13666 non-null object\n",
      "name_length           13666 non-null int64\n",
      "num_order             13666 non-null int64\n",
      "num_payouts           13666 non-null int64\n",
      "object_id             13666 non-null int64\n",
      "org_desc              13666 non-null object\n",
      "org_facebook          13607 non-null float64\n",
      "org_name              13666 non-null object\n",
      "org_twitter           13607 non-null float64\n",
      "payee_name            13666 non-null object\n",
      "payout_type           13666 non-null object\n",
      "previous_payouts      13666 non-null object\n",
      "sale_duration         13512 non-null float64\n",
      "sale_duration2        13666 non-null int64\n",
      "show_map              13666 non-null int64\n",
      "ticket_types          13666 non-null object\n",
      "user_age              13666 non-null int64\n",
      "user_created          13666 non-null datetime64[ns]\n",
      "user_type             13666 non-null int64\n",
      "venue_address         13666 non-null object\n",
      "venue_country         12623 non-null object\n",
      "venue_latitude        12623 non-null float64\n",
      "venue_longitude       12623 non-null float64\n",
      "venue_name            12623 non-null object\n",
      "venue_state           12623 non-null object\n",
      "fraud                 13666 non-null int64\n",
      "dtypes: datetime64[ns](5), float64(9), int64(14), object(17)\n",
      "memory usage: 4.8+ MB\n"
     ]
    }
   ],
   "source": [
    "df_new.info()"
   ]
  },
  {
   "cell_type": "code",
   "execution_count": 308,
   "metadata": {
    "collapsed": false
   },
   "outputs": [
    {
     "data": {
      "text/plain": [
       "0    12373\n",
       "1     1293\n",
       "Name: fraud, dtype: int64"
      ]
     },
     "execution_count": 308,
     "metadata": {},
     "output_type": "execute_result"
    }
   ],
   "source": [
    "df_new.fraud.value_counts()"
   ]
  },
  {
   "cell_type": "code",
   "execution_count": 309,
   "metadata": {
    "collapsed": false
   },
   "outputs": [
    {
     "data": {
      "text/plain": [
       "0.094614371432752822"
      ]
     },
     "execution_count": 309,
     "metadata": {},
     "output_type": "execute_result"
    }
   ],
   "source": [
    "df_new.fraud.value_counts()[1]/len(df_new.fraud)"
   ]
  },
  {
   "cell_type": "code",
   "execution_count": 310,
   "metadata": {
    "collapsed": false
   },
   "outputs": [
    {
     "name": "stderr",
     "output_type": "stream",
     "text": [
      "/Users/lihuama/anaconda2/lib/python2.7/site-packages/ipykernel/__main__.py:1: SettingWithCopyWarning: \n",
      "A value is trying to be set on a copy of a slice from a DataFrame.\n",
      "Try using .loc[row_indexer,col_indexer] = value instead\n",
      "\n",
      "See the caveats in the documentation: http://pandas.pydata.org/pandas-docs/stable/indexing.html#indexing-view-versus-copy\n",
      "  if __name__ == '__main__':\n"
     ]
    }
   ],
   "source": [
    "df_new['previous_payouts_total'] = df_new.previous_payouts.apply(len)"
   ]
  },
  {
   "cell_type": "code",
   "execution_count": 312,
   "metadata": {
    "collapsed": true
   },
   "outputs": [],
   "source": [
    "feature_cols = ['delivery_method', 'num_payouts', 'org_facebook', 'org_twitter', 'sale_duration', \\\n",
    "                'previous_payouts_total']"
   ]
  },
  {
   "cell_type": "code",
   "execution_count": 313,
   "metadata": {
    "collapsed": false
   },
   "outputs": [],
   "source": [
    "X = df_new[feature_cols]\n",
    "y = df_new.fraud"
   ]
  },
  {
   "cell_type": "code",
   "execution_count": 314,
   "metadata": {
    "collapsed": false
   },
   "outputs": [],
   "source": [
    "df_new = pd.concat([X,y], axis = 1)"
   ]
  },
  {
   "cell_type": "code",
   "execution_count": 315,
   "metadata": {
    "collapsed": false
   },
   "outputs": [],
   "source": [
    "df_new = df_new.dropna().copy()"
   ]
  },
  {
   "cell_type": "code",
   "execution_count": 316,
   "metadata": {
    "collapsed": false
   },
   "outputs": [],
   "source": [
    "X_new = df_new[feature_cols]\n",
    "y_new = df_new.fraud"
   ]
  },
  {
   "cell_type": "code",
   "execution_count": 317,
   "metadata": {
    "collapsed": false
   },
   "outputs": [],
   "source": [
    "X_train, X_test, y_train, y_test = train_test_split(X_new,y_new)"
   ]
  },
  {
   "cell_type": "code",
   "execution_count": 318,
   "metadata": {
    "collapsed": true
   },
   "outputs": [],
   "source": [
    "rm = RandomForestClassifier(n_estimators=100)"
   ]
  },
  {
   "cell_type": "code",
   "execution_count": 319,
   "metadata": {
    "collapsed": false
   },
   "outputs": [
    {
     "data": {
      "text/plain": [
       "RandomForestClassifier(bootstrap=True, class_weight=None, criterion='gini',\n",
       "            max_depth=None, max_features='auto', max_leaf_nodes=None,\n",
       "            min_impurity_split=1e-07, min_samples_leaf=1,\n",
       "            min_samples_split=2, min_weight_fraction_leaf=0.0,\n",
       "            n_estimators=100, n_jobs=1, oob_score=False, random_state=None,\n",
       "            verbose=0, warm_start=False)"
      ]
     },
     "execution_count": 319,
     "metadata": {},
     "output_type": "execute_result"
    }
   ],
   "source": [
    "rm.fit(X_train, y_train)"
   ]
  },
  {
   "cell_type": "code",
   "execution_count": 320,
   "metadata": {
    "collapsed": false
   },
   "outputs": [
    {
     "data": {
      "text/plain": [
       "0.97950089126559714"
      ]
     },
     "execution_count": 320,
     "metadata": {},
     "output_type": "execute_result"
    }
   ],
   "source": [
    "rm.score(X_test, y_test)"
   ]
  },
  {
   "cell_type": "code",
   "execution_count": 321,
   "metadata": {
    "collapsed": false
   },
   "outputs": [
    {
     "data": {
      "text/plain": [
       "0.96601857641530486"
      ]
     },
     "execution_count": 321,
     "metadata": {},
     "output_type": "execute_result"
    }
   ],
   "source": [
    "roc_auc_score(y_test, rm.predict_proba(X_test)[:, 1])"
   ]
  },
  {
   "cell_type": "code",
   "execution_count": 322,
   "metadata": {
    "collapsed": false
   },
   "outputs": [
    {
     "data": {
      "text/plain": [
       "array([[3050,   23],\n",
       "       [  46,  247]])"
      ]
     },
     "execution_count": 322,
     "metadata": {},
     "output_type": "execute_result"
    }
   ],
   "source": [
    "confusion_matrix(y_test, rm.predict(X_test))"
   ]
  },
  {
   "cell_type": "code",
   "execution_count": 323,
   "metadata": {
    "collapsed": true
   },
   "outputs": [],
   "source": [
    "c = confusion_matrix(y_test, rm.predict(X_test))"
   ]
  },
  {
   "cell_type": "code",
   "execution_count": 324,
   "metadata": {
    "collapsed": false
   },
   "outputs": [
    {
     "data": {
      "text/plain": [
       "0.91481481481481486"
      ]
     },
     "execution_count": 324,
     "metadata": {},
     "output_type": "execute_result"
    }
   ],
   "source": [
    "precision_score(y_test, rm.predict(X_test))"
   ]
  },
  {
   "cell_type": "code",
   "execution_count": 325,
   "metadata": {
    "collapsed": true
   },
   "outputs": [],
   "source": [
    "recall_score = c[1,1]/(c[1,1] + c[1,0])"
   ]
  },
  {
   "cell_type": "code",
   "execution_count": 326,
   "metadata": {
    "collapsed": false
   },
   "outputs": [
    {
     "data": {
      "text/plain": [
       "0.84300341296928327"
      ]
     },
     "execution_count": 326,
     "metadata": {},
     "output_type": "execute_result"
    }
   ],
   "source": [
    "recall_score"
   ]
  },
  {
   "cell_type": "code",
   "execution_count": 327,
   "metadata": {
    "collapsed": true
   },
   "outputs": [],
   "source": [
    "def total_revenue(dicts):\n",
    "    revenues = []\n",
    "    for d in dicts:\n",
    "        c = d['cost']\n",
    "        sold = d['quantity_sold']\n",
    "        revenue = c * float(sold)\n",
    "        revenues.append(revenue)\n",
    "    return sum(revenues)\n",
    "\n",
    "def lifetime_value(revenue, num_days):\n",
    "    if num_days != 0:\n",
    "        periods = float(num_days)/365\n",
    "        GC = revenue/periods\n",
    "        CLV = GC * (1/1+0.04)\n",
    "        return CLV\n",
    "    \n",
    "df['Revenue'] = df['ticket_types'].apply(lambda x: total_revenue(x))\n",
    "df['Lifetime Value'] = df.apply(lambda x: lifetime_value(x['Revenue'], x['user_age']), axis = 1)"
   ]
  },
  {
   "cell_type": "code",
   "execution_count": 328,
   "metadata": {
    "collapsed": false
   },
   "outputs": [],
   "source": [
    "df_new_value = df_new.copy()\n",
    "df_new_value['ticket_types'] = df.ticket_types\n",
    "df_new_value['user_age'] = df.user_age"
   ]
  },
  {
   "cell_type": "code",
   "execution_count": 329,
   "metadata": {
    "collapsed": false
   },
   "outputs": [
    {
     "data": {
      "text/html": [
       "<div>\n",
       "<table border=\"1\" class=\"dataframe\">\n",
       "  <thead>\n",
       "    <tr style=\"text-align: right;\">\n",
       "      <th></th>\n",
       "      <th>delivery_method</th>\n",
       "      <th>num_payouts</th>\n",
       "      <th>org_facebook</th>\n",
       "      <th>org_twitter</th>\n",
       "      <th>sale_duration</th>\n",
       "      <th>previous_payouts_total</th>\n",
       "      <th>fraud</th>\n",
       "      <th>ticket_types</th>\n",
       "      <th>user_age</th>\n",
       "    </tr>\n",
       "  </thead>\n",
       "  <tbody>\n",
       "    <tr>\n",
       "      <th>0</th>\n",
       "      <td>0.0</td>\n",
       "      <td>0</td>\n",
       "      <td>0.0</td>\n",
       "      <td>0.0</td>\n",
       "      <td>29.0</td>\n",
       "      <td>0</td>\n",
       "      <td>1</td>\n",
       "      <td>[{u'event_id': 527017, u'cost': 25.0, u'availa...</td>\n",
       "      <td>36</td>\n",
       "    </tr>\n",
       "    <tr>\n",
       "      <th>1</th>\n",
       "      <td>1.0</td>\n",
       "      <td>1</td>\n",
       "      <td>0.0</td>\n",
       "      <td>12.0</td>\n",
       "      <td>28.0</td>\n",
       "      <td>49</td>\n",
       "      <td>0</td>\n",
       "      <td>[{u'event_id': 786878, u'cost': 35.0, u'availa...</td>\n",
       "      <td>149</td>\n",
       "    </tr>\n",
       "    <tr>\n",
       "      <th>2</th>\n",
       "      <td>1.0</td>\n",
       "      <td>4</td>\n",
       "      <td>0.0</td>\n",
       "      <td>0.0</td>\n",
       "      <td>54.0</td>\n",
       "      <td>36</td>\n",
       "      <td>0</td>\n",
       "      <td>[{u'event_id': 787337, u'cost': 93.51, u'avail...</td>\n",
       "      <td>214</td>\n",
       "    </tr>\n",
       "    <tr>\n",
       "      <th>3</th>\n",
       "      <td>1.0</td>\n",
       "      <td>16</td>\n",
       "      <td>0.0</td>\n",
       "      <td>0.0</td>\n",
       "      <td>0.0</td>\n",
       "      <td>21</td>\n",
       "      <td>0</td>\n",
       "      <td>[{u'event_id': 885645, u'cost': 25.0, u'availa...</td>\n",
       "      <td>889</td>\n",
       "    </tr>\n",
       "    <tr>\n",
       "      <th>4</th>\n",
       "      <td>0.0</td>\n",
       "      <td>0</td>\n",
       "      <td>0.0</td>\n",
       "      <td>0.0</td>\n",
       "      <td>63.0</td>\n",
       "      <td>49</td>\n",
       "      <td>0</td>\n",
       "      <td>[{u'event_id': 1114349, u'cost': 150.0, u'avai...</td>\n",
       "      <td>35</td>\n",
       "    </tr>\n",
       "  </tbody>\n",
       "</table>\n",
       "</div>"
      ],
      "text/plain": [
       "   delivery_method  num_payouts  org_facebook  org_twitter  sale_duration  \\\n",
       "0              0.0            0           0.0          0.0           29.0   \n",
       "1              1.0            1           0.0         12.0           28.0   \n",
       "2              1.0            4           0.0          0.0           54.0   \n",
       "3              1.0           16           0.0          0.0            0.0   \n",
       "4              0.0            0           0.0          0.0           63.0   \n",
       "\n",
       "   previous_payouts_total  fraud  \\\n",
       "0                       0      1   \n",
       "1                      49      0   \n",
       "2                      36      0   \n",
       "3                      21      0   \n",
       "4                      49      0   \n",
       "\n",
       "                                        ticket_types  user_age  \n",
       "0  [{u'event_id': 527017, u'cost': 25.0, u'availa...        36  \n",
       "1  [{u'event_id': 786878, u'cost': 35.0, u'availa...       149  \n",
       "2  [{u'event_id': 787337, u'cost': 93.51, u'avail...       214  \n",
       "3  [{u'event_id': 885645, u'cost': 25.0, u'availa...       889  \n",
       "4  [{u'event_id': 1114349, u'cost': 150.0, u'avai...        35  "
      ]
     },
     "execution_count": 329,
     "metadata": {},
     "output_type": "execute_result"
    }
   ],
   "source": [
    "df_new_value.head()"
   ]
  },
  {
   "cell_type": "code",
   "execution_count": 330,
   "metadata": {
    "collapsed": true
   },
   "outputs": [],
   "source": [
    "df_new_value['Revenue'] = df_new_value['ticket_types'].apply(lambda x: total_revenue(x))\n",
    "df_new_value['Lifetime Value'] = df_new_value.apply(lambda x: lifetime_value(x['Revenue'], x['user_age']), axis = 1)"
   ]
  },
  {
   "cell_type": "code",
   "execution_count": 331,
   "metadata": {
    "collapsed": false
   },
   "outputs": [
    {
     "data": {
      "text/html": [
       "<div>\n",
       "<table border=\"1\" class=\"dataframe\">\n",
       "  <thead>\n",
       "    <tr style=\"text-align: right;\">\n",
       "      <th></th>\n",
       "      <th>delivery_method</th>\n",
       "      <th>num_payouts</th>\n",
       "      <th>org_facebook</th>\n",
       "      <th>org_twitter</th>\n",
       "      <th>sale_duration</th>\n",
       "      <th>previous_payouts_total</th>\n",
       "      <th>fraud</th>\n",
       "      <th>ticket_types</th>\n",
       "      <th>user_age</th>\n",
       "      <th>Revenue</th>\n",
       "      <th>Lifetime Value</th>\n",
       "    </tr>\n",
       "  </thead>\n",
       "  <tbody>\n",
       "    <tr>\n",
       "      <th>0</th>\n",
       "      <td>0.0</td>\n",
       "      <td>0</td>\n",
       "      <td>0.0</td>\n",
       "      <td>0.0</td>\n",
       "      <td>29.0</td>\n",
       "      <td>0</td>\n",
       "      <td>1</td>\n",
       "      <td>[{u'event_id': 527017, u'cost': 25.0, u'availa...</td>\n",
       "      <td>36</td>\n",
       "      <td>0.00</td>\n",
       "      <td>0.000000</td>\n",
       "    </tr>\n",
       "    <tr>\n",
       "      <th>1</th>\n",
       "      <td>1.0</td>\n",
       "      <td>1</td>\n",
       "      <td>0.0</td>\n",
       "      <td>12.0</td>\n",
       "      <td>28.0</td>\n",
       "      <td>49</td>\n",
       "      <td>0</td>\n",
       "      <td>[{u'event_id': 786878, u'cost': 35.0, u'availa...</td>\n",
       "      <td>149</td>\n",
       "      <td>875.00</td>\n",
       "      <td>2229.194631</td>\n",
       "    </tr>\n",
       "    <tr>\n",
       "      <th>2</th>\n",
       "      <td>1.0</td>\n",
       "      <td>4</td>\n",
       "      <td>0.0</td>\n",
       "      <td>0.0</td>\n",
       "      <td>54.0</td>\n",
       "      <td>36</td>\n",
       "      <td>0</td>\n",
       "      <td>[{u'event_id': 787337, u'cost': 93.51, u'avail...</td>\n",
       "      <td>214</td>\n",
       "      <td>4488.48</td>\n",
       "      <td>7961.808449</td>\n",
       "    </tr>\n",
       "  </tbody>\n",
       "</table>\n",
       "</div>"
      ],
      "text/plain": [
       "   delivery_method  num_payouts  org_facebook  org_twitter  sale_duration  \\\n",
       "0              0.0            0           0.0          0.0           29.0   \n",
       "1              1.0            1           0.0         12.0           28.0   \n",
       "2              1.0            4           0.0          0.0           54.0   \n",
       "\n",
       "   previous_payouts_total  fraud  \\\n",
       "0                       0      1   \n",
       "1                      49      0   \n",
       "2                      36      0   \n",
       "\n",
       "                                        ticket_types  user_age  Revenue  \\\n",
       "0  [{u'event_id': 527017, u'cost': 25.0, u'availa...        36     0.00   \n",
       "1  [{u'event_id': 786878, u'cost': 35.0, u'availa...       149   875.00   \n",
       "2  [{u'event_id': 787337, u'cost': 93.51, u'avail...       214  4488.48   \n",
       "\n",
       "   Lifetime Value  \n",
       "0        0.000000  \n",
       "1     2229.194631  \n",
       "2     7961.808449  "
      ]
     },
     "execution_count": 331,
     "metadata": {},
     "output_type": "execute_result"
    }
   ],
   "source": [
    "df_new_value.head(3)"
   ]
  },
  {
   "cell_type": "code",
   "execution_count": 332,
   "metadata": {
    "collapsed": false
   },
   "outputs": [],
   "source": [
    "df_new_value['predict'] = rm.predict(X_new)"
   ]
  },
  {
   "cell_type": "code",
   "execution_count": 333,
   "metadata": {
    "collapsed": false,
    "scrolled": false
   },
   "outputs": [
    {
     "data": {
      "text/plain": [
       "13308"
      ]
     },
     "execution_count": 333,
     "metadata": {},
     "output_type": "execute_result"
    }
   ],
   "source": [
    "(df_new_value.fraud == df_new_value.predict).sum()"
   ]
  },
  {
   "cell_type": "code",
   "execution_count": null,
   "metadata": {
    "collapsed": true
   },
   "outputs": [],
   "source": []
  }
 ],
 "metadata": {
  "kernelspec": {
   "display_name": "Python 3",
   "language": "python",
   "name": "python3"
  },
  "language_info": {
   "codemirror_mode": {
    "name": "ipython",
    "version": 3
   },
   "file_extension": ".py",
   "mimetype": "text/x-python",
   "name": "python",
   "nbconvert_exporter": "python",
   "pygments_lexer": "ipython3",
   "version": "3.6.0"
  }
 },
 "nbformat": 4,
 "nbformat_minor": 2
}
